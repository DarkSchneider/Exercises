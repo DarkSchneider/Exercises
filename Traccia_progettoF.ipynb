{
  "nbformat": 4,
  "nbformat_minor": 0,
  "metadata": {
    "colab": {
      "name": "Traccia_progettoF.ipynb",
      "provenance": [],
      "collapsed_sections": [],
      "include_colab_link": true
    },
    "kernelspec": {
      "name": "python3",
      "display_name": "Python 3"
    },
    "language_info": {
      "name": "python"
    }
  },
  "cells": [
    {
      "cell_type": "markdown",
      "metadata": {
        "id": "view-in-github",
        "colab_type": "text"
      },
      "source": [
        "<a href=\"https://colab.research.google.com/github/DarkSchneider/Exercises/blob/main/Traccia_progettoF.ipynb\" target=\"_parent\"><img src=\"https://colab.research.google.com/assets/colab-badge.svg\" alt=\"Open In Colab\"/></a>"
      ]
    },
    {
      "cell_type": "markdown",
      "metadata": {
        "id": "pUpr45QmS648"
      },
      "source": [
        "# Informazioni consegna\n",
        "* Aggiungere i componenti del proprio gruppo in questo [form](https://forms.office.com/r/1WKBx4YgSH). \n",
        "* **I gruppi possono essere composti da massimo 3 persone. Nel caso si intenda fare il progetto da soli bisogna comunque aggiungere il proprio nome nel form.**\n",
        "* Per la consegna è necessario caricare su Virtuale la relazione, il notebook Colab e le immagini generate.\n",
        "* La consegna deve essere effettuata da un qualsiasi membro del gruppo e verrà automaticamente attribuita ai restanti componenti.\n",
        "* Per i dettagli sulle tempistiche e le scadenze si faccia riferimento a Virtuale."
      ]
    },
    {
      "cell_type": "markdown",
      "metadata": {
        "id": "f_Hj3qHbc5FE"
      },
      "source": [
        "# Deblur Immagini\n",
        "Il problema di deblur consiste nella ricostruzione di un immagine a partire da un dato acquisito mediante il seguente modello:\n",
        "\n",
        "\\begin{align*}\n",
        "    b = A x + \\eta\n",
        "\\end{align*}\n",
        "\n",
        "dove $b$ rappresenta l'immagine corrotta, $x$ l'immagine originale che vogliamo ricostruire, $A$ l'operatore che applica il blur Gaussiano ed $\\eta$ il rumore additivo con distribuzione Gaussiana di  media $\\mathbb{0}$ e deviazione standard $\\sigma$."
      ]
    },
    {
      "cell_type": "markdown",
      "metadata": {
        "id": "9w6c8RYzdZhi"
      },
      "source": [
        "## Funzioni di blur\n",
        "Le seguenti funzioni servono per applicare il blur di tipo gaussiano ad un'immagine.\n",
        "\n"
      ]
    },
    {
      "cell_type": "code",
      "metadata": {
        "id": "KOIArYLErG_j"
      },
      "source": [
        "import numpy as np\n",
        "import matplotlib.pyplot as plt\n",
        "from skimage import data, metrics\n",
        "from scipy import signal\n",
        "from numpy import fft\n",
        "\n",
        "# Create a Gaussian kernel of size kernlen and standard deviation sigma\n",
        "def gaussian_kernel(kernlen, sigma):\n",
        "    x = np.linspace(- (kernlen // 2), kernlen // 2, kernlen)    \n",
        "    # Unidimensional Gaussian kernel\n",
        "    kern1d = np.exp(- 0.5 * (x**2 / sigma))\n",
        "    # Bidimensional Gaussian kernel\n",
        "    kern2d = np.outer(kern1d, kern1d)\n",
        "    # Normalization\n",
        "    return kern2d / kern2d.sum()\n",
        "\n",
        "# Compute the FFT of the kernel 'K' of size 'd' padding with the zeros necessary\n",
        "# to match the size of 'shape'\n",
        "def psf_fft(K, d, shape):\n",
        "    # Zero padding\n",
        "    K_p = np.zeros(shape)\n",
        "    K_p[:d, :d] = K\n",
        "\n",
        "    # Shift\n",
        "    p = d // 2\n",
        "    K_pr = np.roll(np.roll(K_p, -p, 0), -p, 1)\n",
        "\n",
        "    # Compute FFT\n",
        "    K_otf = fft.fft2(K_pr)\n",
        "    return K_otf\n",
        "\n",
        "# Multiplication by A\n",
        "def A(x, K):\n",
        "  x = fft.fft2(x)\n",
        "  return np.real(fft.ifft2(K * x))\n",
        "\n",
        "# Multiplication by A transpose\n",
        "def AT(x, K):\n",
        "  x = fft.fft2(x)\n",
        "  return np.real(fft.ifft2(np.conj(K) * x))"
      ],
      "execution_count": 2,
      "outputs": []
    },
    {
      "cell_type": "markdown",
      "metadata": {
        "id": "v3d1MzlRrMTZ"
      },
      "source": [
        "## Generazione dataset\n",
        "Generare un set di 8 immagini 512$\\times$512 in formato ${\\tt png}$ in scala dei grigi che contengano tra i 2 ed i 6 oggetti geometrici, di colore uniforme, su sfondo nero. \n",
        "\n",
        "\n",
        "![Immagine2.png](data:image/png;base64,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)\n"
      ]
    },
    {
      "cell_type": "markdown",
      "metadata": {
        "id": "P7kctNn96hRu"
      },
      "source": [
        "## 1) Generazione immagini corrotte\n",
        "Degradare le immagini applicando, mediante le funzioni riportate nella cella precedente,  l'operatore di blur con parametri\n",
        "\n",
        "+ $\\sigma=0.5$ dimensione $5\\times 5$\n",
        "+ $\\sigma=1$ dimensione $7\\times 7$\n",
        "+ $\\sigma=1.3$ dimensione $9\\times 9$\n",
        "\n",
        "ed aggiungendo rumore gaussiano con deviazione standard $(0,0.05]$"
      ]
    },
    {
      "cell_type": "code",
      "metadata": {
        "id": "ZuDOVXt_rtSl"
      },
      "source": [
        "import matplotlib.pyplot as plt\n",
        "from skimage import color, io, metrics\n",
        "import sys\n",
        "from google.colab import files\n",
        "\n",
        "\n",
        "#lettura delle immagini e renderle in colormap bianco e nero\n",
        "immagini=[]\n",
        "for i in range(8):\n",
        "  immagini.append(np.array(color.rgb2gray(plt.imread('{}.png'.format(i+1)))))\n",
        "\n",
        "#aggiungere il blur\n",
        "k1 = gaussian_kernel(5,0.5)\n",
        "k2 = gaussian_kernel(7,1)\n",
        "k3 = gaussian_kernel(9,1.3)\n",
        "\n",
        "dim = immagini[i].shape\n",
        "\n",
        "#filtro di blur\n",
        "f1 = psf_fft(k1, 5, dim)\n",
        "f2 = psf_fft(k2, 7, dim)\n",
        "f3 = psf_fft(k3, 9, dim)\n",
        "\n",
        "\n",
        "#rumore\n",
        "sigma = 0.04\n",
        "\n",
        "#moltiplicare tutto\n",
        "imblur1 = []\n",
        "imblur2 = []\n",
        "imblur3 = []\n",
        "\n",
        "for i in range(8):\n",
        "    noise = np.random.normal(size=dim) * sigma\n",
        "    imblur1.append(np.array(A(immagini[i], f1) + noise))\n",
        "    imblur2.append(np.array(A(immagini[i], f2) + noise))\n",
        "    imblur3.append(np.array(A(immagini[i], f3) + noise))\n",
        "\n",
        "    #calcolare psnr e mse tra (immagini, imblur)\n",
        "    PSNR = metrics.peak_signal_noise_ratio(immagini[i], imblur1[i])\n",
        "    MSE = metrics.mean_squared_error(immagini[i], imblur1[i])\n",
        "    print('PSNR immagine-{}: '.format(i) + PSNR)\n",
        "    print('MSE immagine-{}'.format(i) + MSE)"
      ],
      "execution_count": 4,
      "outputs": []
    },
    {
      "cell_type": "markdown",
      "metadata": {
        "id": "AH2hxljMrs05"
      },
      "source": [
        "## 2) Soluzione naive\n",
        "\n",
        "Una possibile ricostruzione dell'immagine originale $x$ partendo dall'immagine corrotta $b$ è la soluzione naive data dal minimo del seguente problema di ottimizzazione:\n",
        "\\begin{align}\n",
        "  x^* = \\arg\\min_x \\frac{1}{2} ||Ax - b||_2^2\n",
        "\\end{align}\n",
        "\n",
        "La funzione $f$ da minimizzare è data dalla formula\n",
        "  $f(x) = \\frac{1}{2} ||Ax - b||_2^2 $, il cui gradiente $\\nabla f$ è dato da\n",
        "$\\nabla f(x) = A^TAx - A^Tb  $.\n",
        "\n",
        "Utilizzando il metodo del gradiente coniugato implementato dalla funzione `minimize` calcolare la soluzione naive. "
      ]
    },
    {
      "cell_type": "code",
      "metadata": {
        "id": "NE1-Z7AcrnUl"
      },
      "source": [
        "from scipy.optimize import minimize\n",
        "#filtro di blur attualmente utilizzato, cambiare questo per cambiare la A a seconda del blur che si vuole usare\n",
        "blur = f3\n",
        "\n",
        "#funzione per trovare i pollici partendo da pixel\n",
        "def pixel2inch(num,dpi):\n",
        "  return num/dpi\n",
        "\n",
        "#ignoro il rumore\n",
        "\n",
        "def f(x):\n",
        "  x_matrix = x.reshape((immagini[0].shape[0], immagini[0].shape[1]))\n",
        "  #print(0.5*np.linalg.norm(A(x_matrix,blur) - b))\n",
        "  r = 0.5*(np.linalg.norm(A(x_matrix, blur) - b)**2)\n",
        "  return np.sum(r)\n",
        "\n",
        "def grad_f(x):\n",
        "  x_matrix = x.reshape(immagini[0].shape[0], immagini[0].shape[0])  #formo la matrice\n",
        "  r = AT(A(x_matrix,blur) - b, blur)\n",
        "  r = r.reshape(r.shape[0]**2)\n",
        "  return r\n",
        "\n",
        "for i in range(8):\n",
        "  b=imblur3[i]\n",
        "  x0 = np.zeros(immagini[0].shape[0]**2)\n",
        "\n",
        "  res = minimize(f, x0, method='CG', jac=grad_f, options={'disp':True, 'maxiter':30})\n",
        "\n",
        "  print(res)\n",
        "\n",
        "  x = res.x.reshape((512,512))\n",
        "  \n",
        "  psnr = metrics.peak_signal_noise_ratio(x, b)\n",
        "\n",
        "  plt.figure(figsize=(pixel2inch(512,72),pixel2inch(512,72))) #72dpi\n",
        "  ax = plt.subplot()\n",
        "  ax.imshow(x, cmap='gray', vmin=0, vmax=1)\n",
        "  plt.title('Immagine-' + str(i) + ' set-{} ricostruita, soluzione naive'.format(blur))\n",
        "  plt.imsave('Immagine-' + str(i) + ' set-{} ricostruita, soluzione naive.png'.format(blur),x,cmap=plt.cm.gray, vmin=0, vmax=1)\n",
        "  files.download('Immagine-' + str(i) + ' set-{} ricostruita, soluzione naive.png'.format(blur))\n"
      ],
      "execution_count": null,
      "outputs": []
    },
    {
      "cell_type": "markdown",
      "metadata": {
        "id": "yoTaMhHeSmYa"
      },
      "source": [
        "## 3) Regolarizzazione\n",
        "Per ridurre gli effetti del rumore nella ricostruzione è necessario introdurre un termine di regolarizzazione di Tikhonov. Si considera quindi il seguente problema di ottimizzazione.\n",
        "\\begin{align*}\n",
        "  x^* = \\arg\\min_x \\frac{1}{2} ||Ax - b||_2^2 + \\frac{\\lambda}{2} ||x||_2^2\n",
        "\\end{align*}\n",
        "\n",
        "La funzione $f$ da minimizzare diventa\n",
        "$f(x) = \\frac{1}{2} ||Ax - b||_2^2 + \\frac{\\lambda}{2} ||x||_2^2$\n",
        "il cui gradiente $\\nabla f$ è dato da\n",
        "$\\nabla f(x) = A^TAx - A^Tb + λx$.\n",
        "\n",
        "Utilizzando il metodo del gradiente coniugato implementato dalla funzione `minimize` ed il metodo del gradiente implementato a lezione, calcolare la soluzione del precendente problema di minimo regolarizzato per differenti valori di $\\lambda$. "
      ]
    },
    {
      "cell_type": "code",
      "source": [
        "  #metodo del gradiente\n",
        "  #backtrackng\n",
        "  def next_step(x,grad): # backtracking procedure for the choice of the steplength\n",
        "    alpha=1.1\n",
        "    rho = 0.5\n",
        "    c1 = 0.25\n",
        "    p=-grad\n",
        "    j=0\n",
        "    jmax=10\n",
        "    while ((f(x[0]+alpha*p[0],x[1]+alpha*p[1]) > f(x[0],x[1])+c1*alpha*grad.T@p) and j<jmax ):\n",
        "      alpha= rho*alpha\n",
        "      j+=1\n",
        "    if (j>jmax):\n",
        "      return -1\n",
        "    else:\n",
        "      #print('alpha=',alpha)\n",
        "      return alpha\n",
        "\n",
        "#metodo del gradiente\n",
        "def grad_minimize(x0,b,mode,step,MAXITERATION,ABSOLUTE_STOP):\n",
        "  #declare x_k and gradient_k vectors\n",
        "  if mode=='plot_history':\n",
        "    x=np.zeros((2,MAXITERATION))\n",
        "\n",
        "  norm_grad_list=np.zeros((1,MAXITERATION))\n",
        "  function_eval_list=np.zeros((1,MAXITERATION))\n",
        "  error_list=np.zeros((1,MAXITERATION))\n",
        "  \n",
        "  #initialize first values\n",
        "  x_last = np.array([x0[0],x0[1]])\n",
        "\n",
        "  if mode=='plot_history':\n",
        "    x[:,0] = x_last\n",
        "  \n",
        "  k=0\n",
        "\n",
        "  function_eval_list[:,k]=f(x_last[0], x_last[1])\n",
        "  error_list[:,k]=np.linalg.norm(x_last-b)\n",
        "  norm_grad_list[:,k]=np.linalg.norm(grad_f(x_last))\n",
        "\n",
        "  while (np.linalg.norm(grad_f(x_last))>ABSOLUTE_STOP and k < MAXITERATION ):\n",
        "    k=k+1\n",
        "    grad = grad_f(x_last)#direction is given by gradient of the last iteration\n",
        "\n",
        "    # backtracking step\n",
        "    step = next_step(x_last,grad)\n",
        "    # Fixed step\n",
        "    #step = 0.1\n",
        "    \n",
        "    if(step==-1):\n",
        "      print('non convergente')\n",
        "      return (iteration) #no convergence\n",
        "\n",
        "    x_last=x_last-step*grad\n",
        "    if mode=='plot_history':\n",
        "      x[:,k] = x_last\n",
        "\n",
        "    function_eval_list[:,k]=f(x_last[0], x_last[1])\n",
        "    error_list[:,k]=np.linalg.norm(x_last-b)\n",
        "    norm_grad_list[:,k]=np.linalg.norm(grad_f(x_last))\n",
        "\n",
        "  function_eval_list = function_eval_list[:,:k+1]\n",
        "  error_list = error_list[:,:k+1]\n",
        "  norm_grad_list = norm_grad_list[:,:k+1]\n",
        "  \n",
        "  print('iterations=',k)\n",
        "  print('last guess: x=(%f,%f)'%(x[0,k],x[1,k]))\n",
        " \n",
        "  #plots\n",
        "  if mode=='plot_history':\n",
        "    v_x0 = np.linspace(-5,5,500)\n",
        "    v_x1 = np.linspace(-5,5,500)\n",
        "    x0v,x1v = np.meshgrid(v_x0,v_x1)\n",
        "    z = f(x0v,x1v)\n",
        "    \n",
        "    plt.figure()\n",
        "    ax = plt.axes(projection='3d')\n",
        "    ax.plot_surface(v_x0, v_x1, z,cmap='viridis')\n",
        "    ax.set_title('Surface plot')\n",
        "    plt.show()\n",
        "\n",
        "    # plt.figure(figsize=(8, 5))\n",
        "    contours = plt.contour(x0v, x1v, z, levels=100)\n",
        "    plt.plot(x[0,0:k],x[1,0:k],'*')\n",
        "    #plt.axis([-5,5,-5,5])\n",
        "    plt.axis ('equal')\n",
        "    plt.show()\n",
        "  return (x_last,norm_grad_list, function_eval_list, error_list, k)\n"
      ],
      "metadata": {
        "id": "rkPscuKReRoL"
      },
      "execution_count": null,
      "outputs": []
    },
    {
      "cell_type": "code",
      "metadata": {
        "id": "zWrihPW7b7SN"
      },
      "source": [
        "lam=0.8\n",
        "\n",
        "blur= f3\n",
        "\n",
        "def f(x):\n",
        "  x_matrix = x.reshape((immagini[0].shape[0], immagini[0].shape[1]))\n",
        "  r = 0.5*(np.linalg.norm(A(x_matrix, blur) - b)**2) + ((lam/2)*np.linalg.norm(x_matrix)**2)\n",
        "  return np.sum(r)\n",
        "\n",
        "def grad_f(x):\n",
        "  x_matrix = x.reshape(immagini[0].shape[0], immagini[0].shape[0])  #formo la matrice\n",
        "  r = AT(A(x_matrix,blur), blur) - AT(b, blur) + lam*x_matrix\n",
        "  r = r.reshape(r.shape[0]**2)\n",
        "  return r\n",
        "\n",
        "for i in range(8):\n",
        "  b=imblur3[i]\n",
        "  x0 = np.zeros(immagini[0].shape[0]**2)\n",
        "\n",
        "  reg = minimize(f, x0, method='CG', jac=grad_f)\n",
        "\n",
        "  print(reg)\n",
        "\n",
        "  x = reg.x.reshape((512,512))\n",
        "  plt.figure(figsize=(8,8))\n",
        "  ax = plt.subplot()\n",
        "  ax.imshow(x, cmap='gray', vmin=0, vmax=1)\n",
        "  plt.title('Immagine-' + str(i) + ' set-3 ricostruita, lambda=%d' % (lam))\n",
        "  plt.savefig('Immagine-' + str(i) + ' set-3 ricostruita, lambda=%d' % (lam))\n",
        "  files.download('Immagine-' + str(i) + ' set-3 ricostruita, lambda=%d.png' % (lam))\n",
        "\n",
        "#soluzione con il metodo del gradiente\n"
      ],
      "execution_count": null,
      "outputs": []
    },
    {
      "cell_type": "markdown",
      "metadata": {
        "id": "_aCu4wdBS5OF"
      },
      "source": [
        "## 4) Variazione Totale (Facoltativo) \n",
        "\n",
        "Un altra funzione adatta come termine di regolarizzazione è la Variazione Totale. Data $u$ immagine di dimensioni $m\\times n$ la variazione totale $TV$ di $u$ è definit come:\n",
        "\\begin{align*}\n",
        "  TV(u) = \\sum_i^n{\\sum_j^m{\\sqrt{||\\nabla u(i, j)||_2^2 + \\epsilon^2}}}\n",
        "\\end{align*}\n",
        "Per calcolare il gradiente dell'immagine $\\nabla u$ usiamo la funzione `np.gradient` che approssima la derivata per ogni pixel calcolando la differenza tra pixel adiacenti. I risultati sono due immagini della stessa dimensione dell'immagine in input, una che rappresenta il valore della derivata orizzontale `dx` e l'altra della derivata verticale `dy`. Il gradiente dell'immagine nel punto $(i, j)$ è quindi un vettore di due componenti, uno orizzontale contenuto in `dx` e uno verticale in `dy`.\n",
        "\n",
        "Come nei casi precedenti il problema di minimo che si va a risolvere è il seguente:\n",
        "\\begin{align*}\n",
        "  x^* = \\arg\\min_x \\frac{1}{2} ||Ax - b||_2^2 + \\lambda TV(u)\n",
        "\\end{align*}\n",
        "il cui gradiente $\\nabla f$ è dato da\n",
        "\\begin{align*}\n",
        "\\nabla f(x) = (A^TAx - A^Tb)  + \\lambda \\nabla TV(x)\n",
        "\\end{align*}\n",
        "\n",
        "Utilizzando il metodo del gradiente implementato a lezione, calcolare la soluzione del precendente problema di minimo regolarizzato per differenti valori di $\\lambda$. \n",
        "\n",
        "\n",
        "---\n",
        "Per risolvere il problema di minimo è necessario anche calcolare il gradiente della variazione totale che è definito nel modo seguente\n",
        "\\begin{align*}\n",
        "  \\nabla TV(u) = -div\\left(\\frac{\\nabla u}{\\sqrt{||\\nabla u||_2^2 + \\epsilon^2}}\\right)\n",
        "\\end{align*}\n",
        "\n",
        "\\begin{align*}\n",
        "  div(F) = \\frac{\\partial F_x}{\\partial x} + \\frac{\\partial F_y}{\\partial y}\n",
        "\\end{align*}\n",
        "\n",
        "$div(F)$ è la divergenza del campo vettoriale $F$, nel nostro caso $F$ ha due componenti dati dal gradiente dell'immagine $\\nabla u$ scalato per il valore $ \\frac{1}{\\sqrt{||\\nabla u||_2^2 + \\epsilon^2}}$. Per calcolare la divergenza bisogna calcolare la derivata orizzontale $\\frac{\\partial F_x}{\\partial x}$ della componente $x$ di $F$ e sommarla alla derivata verticale $\\frac{\\partial F_y}{\\partial y}$ della componente $y$ di $F$. Per specificare in quale direzione calcolare la derivata con la funzione `np.gradient` utilizziamo il parametro `axis = 0` per l'orizzontale e `axis = 1` per la verticale."
      ]
    },
    {
      "cell_type": "code",
      "metadata": {
        "id": "mEFmmcOzeabY"
      },
      "source": [
        "eps = 1e-2\n",
        "\n",
        "# Variazione totale\n",
        "def totvar(x):\n",
        "  # Calcola il gradiente di x\n",
        "  dx, dy = np.gradient(x)\n",
        "  n2 = np.square(dx) + np.square(dy)\n",
        "\n",
        "  # Calcola la variazione totale di x\n",
        "  tv = np.sqrt(n2 + eps**2).sum()\n",
        "  return tv\n",
        "\n",
        "# Gradiente della variazione totale\n",
        "def grad_totvar(x):\n",
        "  # Calcola il numeratore della frazione\n",
        "  dx, dy = np.gradient(x)\n",
        "\n",
        "  # Calcola il denominatore della frazione\n",
        "  n2 = np.square(dx) + np.square(dy)\n",
        "  den = np.sqrt(n2 + eps**2)\n",
        "\n",
        "  # Calcola le due componenti di F dividendo il gradiente per il denominatore\n",
        "  Fx = dx / den\n",
        "  Fy = dy / den\n",
        "\n",
        "  # Calcola la derivata orizzontale di Fx \n",
        "  dFdx = np.gradient(Fx, axis=0)\n",
        "  \n",
        "  # Calcola la derivata verticale di Fy\n",
        "  dFdy = np.gradient(Fy, axis=1)\n",
        "\n",
        "  # Calcola la divergenza \n",
        "  div = (dFdx + dFdy)\n",
        "\n",
        "  # Restituisci il valore del gradiente della variazione totale\n",
        "  return -div"
      ],
      "execution_count": null,
      "outputs": []
    },
    {
      "cell_type": "code",
      "metadata": {
        "id": "Ffuge6yfhIMh"
      },
      "source": [
        ""
      ],
      "execution_count": null,
      "outputs": []
    },
    {
      "cell_type": "markdown",
      "metadata": {
        "id": "cESG-s9Kfbul"
      },
      "source": [
        "# Relazione\n",
        "\n",
        "1.   Riportare e commentare i risultati ottenuti nei punti 2. 3. (e 4.) su un immagine del set creato e su altre due immagini in bianco e nero  (fotografiche/mediche/astronomiche)\n",
        "2.   Riportare delle tabelle con le misure di PSNR e MSE ottenute al variare dei parametri (dimensione kernel, valore di sigma, la deviazione standard del rumore, il parametro di regolarizzazione). \n",
        "3. Calcolare sull’intero set di immagini medie e deviazione standard delle metriche per alcuni valori fissati dei parametri.  \n",
        "4. Analizzare su 2 esecuzioni le proprietà dei metodi numerici utilizzati (gradiente coniugato e gradiente) in termini di numero di iterazioni, andamento dell’errore, della funzione obiettivo, norma del gradiente. \n",
        "\n"
      ]
    }
  ]
}
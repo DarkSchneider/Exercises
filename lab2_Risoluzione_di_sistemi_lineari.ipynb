{
  "cells": [
    {
      "cell_type": "markdown",
      "metadata": {
        "id": "view-in-github",
        "colab_type": "text"
      },
      "source": [
        "<a href=\"https://colab.research.google.com/github/DarkSchneider/Exercises/blob/main/lab2_Risoluzione_di_sistemi_lineari.ipynb\" target=\"_parent\"><img src=\"https://colab.research.google.com/assets/colab-badge.svg\" alt=\"Open In Colab\"/></a>"
      ]
    },
    {
      "cell_type": "code",
      "execution_count": 1,
      "metadata": {
        "id": "aSof6FEzeg_w",
        "colab": {
          "base_uri": "https://localhost:8080/",
          "height": 35
        },
        "outputId": "52dbeea2-7e31-4b01-c7ae-737ee8144c89"
      },
      "outputs": [
        {
          "output_type": "display_data",
          "data": {
            "text/html": [
              "<marquee style='width: 50%; color: red;'><b>Questi esercizi possono essere chiesto all'esame!</b></marquee>"
            ],
            "text/plain": [
              "<IPython.core.display.HTML object>"
            ]
          },
          "metadata": {}
        }
      ],
      "source": [
        "# @title <h1>Lab 2 : Risoluzione di sistemi lineari  </h1>\n",
        "%%html\n",
        "<marquee style='width: 50%; color: red;'><b>Questi esercizi possono essere chiesto all'esame!</b></marquee>"
      ]
    },
    {
      "cell_type": "markdown",
      "metadata": {
        "id": "SSRBr7mpk02z"
      },
      "source": [
        "# **MATRICI e NORME**\n",
        "\n",
        "---\n",
        "Considera la matrice A\n",
        "\\begin{equation*}\n",
        "A = \n",
        "\\begin{pmatrix}\n",
        "1 & 2  \\\\\n",
        "0.499  & 1.001  \n",
        "\\end{pmatrix}\n",
        "\\end{equation*}\n",
        "\n",
        "* Calcola la norma 1, la norma 2, la norma Frobenius e la norma infinito di A con ${\\tt numpy.linalg.norm()}$ (guarda l'help della funzione).\n",
        "* Calcola il numero di condizionamento di A con ${\\tt numpy.linalg.cond()}$ (guarda l'help della funzione).\n",
        "* Considera il vettore colonna $x = (1,1)^T$ e calcola il corrispondente termine noto $b$ per il sistema lineare $Ax = b$.\n",
        "* Considera ora il vettore ${\\tilde b} = (3, 1.4985)^T$ e verifica che ${\\tilde x} = (2, 0.5)^T$ è soluzione del sistema $A{\\tilde x} = {\\tilde b}$\n",
        "* Calcola la norma 2 della perturbazione sui termini noti $ \\Delta_b  = \\| b - {\\tilde b} \\|_2$ e la norma 2 della perturbazione sulle soluzioni $ \\Delta_x = \\| x - {\\tilde x} \\|_2$. Confronta $\\Delta_b$ con $\\Delta_x$.\n"
      ]
    },
    {
      "cell_type": "code",
      "execution_count": 2,
      "metadata": {
        "id": "cX0CNsHix76N"
      },
      "outputs": [],
      "source": [
        "import numpy as np\n",
        "import sys\n",
        "\n",
        "# https://numpy.org/doc/stable/reference/"
      ]
    },
    {
      "cell_type": "code",
      "source": [
        "# import the important module in python\n",
        "import numpy as np\n",
        "         \n",
        "# make a matrix with numpy\n",
        "gfg1 = np.matrix('[1, 2, 3; 4, 5, 6; 7, 8, 9]')\n",
        "gfg2 = 3\n",
        "         \n",
        "# applying matrix.dot() method\n",
        "geeks = gfg1.dot(gfg2)\n",
        "   \n",
        "print(geeks)"
      ],
      "metadata": {
        "colab": {
          "base_uri": "https://localhost:8080/"
        },
        "id": "-OFU3SsyUpVo",
        "outputId": "2a78ce6e-a85c-41bf-891a-db3e9eceb94f"
      },
      "execution_count": 3,
      "outputs": [
        {
          "output_type": "stream",
          "name": "stdout",
          "text": [
            "[[ 3  6  9]\n",
            " [12 15 18]\n",
            " [21 24 27]]\n"
          ]
        }
      ]
    },
    {
      "cell_type": "code",
      "execution_count": 4,
      "metadata": {
        "id": "ezOEIaUMVr-0",
        "colab": {
          "base_uri": "https://localhost:8080/"
        },
        "outputId": "8011ad90-40e4-4236-fe1c-ccc6297b26fd"
      },
      "outputs": [
        {
          "output_type": "stream",
          "name": "stdout",
          "text": [
            "Help on function norm in module numpy.linalg:\n",
            "\n",
            "norm(x, ord=None, axis=None, keepdims=False)\n",
            "    Matrix or vector norm.\n",
            "    \n",
            "    This function is able to return one of eight different matrix norms,\n",
            "    or one of an infinite number of vector norms (described below), depending\n",
            "    on the value of the ``ord`` parameter.\n",
            "    \n",
            "    Parameters\n",
            "    ----------\n",
            "    x : array_like\n",
            "        Input array.  If `axis` is None, `x` must be 1-D or 2-D, unless `ord`\n",
            "        is None. If both `axis` and `ord` are None, the 2-norm of\n",
            "        ``x.ravel`` will be returned.\n",
            "    ord : {non-zero int, inf, -inf, 'fro', 'nuc'}, optional\n",
            "        Order of the norm (see table under ``Notes``). inf means numpy's\n",
            "        `inf` object. The default is None.\n",
            "    axis : {None, int, 2-tuple of ints}, optional.\n",
            "        If `axis` is an integer, it specifies the axis of `x` along which to\n",
            "        compute the vector norms.  If `axis` is a 2-tuple, it specifies the\n",
            "        axes that hold 2-D matrices, and the matrix norms of these matrices\n",
            "        are computed.  If `axis` is None then either a vector norm (when `x`\n",
            "        is 1-D) or a matrix norm (when `x` is 2-D) is returned. The default\n",
            "        is None.\n",
            "    \n",
            "        .. versionadded:: 1.8.0\n",
            "    \n",
            "    keepdims : bool, optional\n",
            "        If this is set to True, the axes which are normed over are left in the\n",
            "        result as dimensions with size one.  With this option the result will\n",
            "        broadcast correctly against the original `x`.\n",
            "    \n",
            "        .. versionadded:: 1.10.0\n",
            "    \n",
            "    Returns\n",
            "    -------\n",
            "    n : float or ndarray\n",
            "        Norm of the matrix or vector(s).\n",
            "    \n",
            "    See Also\n",
            "    --------\n",
            "    scipy.linalg.norm : Similar function in SciPy.\n",
            "    \n",
            "    Notes\n",
            "    -----\n",
            "    For values of ``ord < 1``, the result is, strictly speaking, not a\n",
            "    mathematical 'norm', but it may still be useful for various numerical\n",
            "    purposes.\n",
            "    \n",
            "    The following norms can be calculated:\n",
            "    \n",
            "    =====  ============================  ==========================\n",
            "    ord    norm for matrices             norm for vectors\n",
            "    =====  ============================  ==========================\n",
            "    None   Frobenius norm                2-norm\n",
            "    'fro'  Frobenius norm                --\n",
            "    'nuc'  nuclear norm                  --\n",
            "    inf    max(sum(abs(x), axis=1))      max(abs(x))\n",
            "    -inf   min(sum(abs(x), axis=1))      min(abs(x))\n",
            "    0      --                            sum(x != 0)\n",
            "    1      max(sum(abs(x), axis=0))      as below\n",
            "    -1     min(sum(abs(x), axis=0))      as below\n",
            "    2      2-norm (largest sing. value)  as below\n",
            "    -2     smallest singular value       as below\n",
            "    other  --                            sum(abs(x)**ord)**(1./ord)\n",
            "    =====  ============================  ==========================\n",
            "    \n",
            "    The Frobenius norm is given by [1]_:\n",
            "    \n",
            "        :math:`||A||_F = [\\sum_{i,j} abs(a_{i,j})^2]^{1/2}`\n",
            "    \n",
            "    The nuclear norm is the sum of the singular values.\n",
            "    \n",
            "    Both the Frobenius and nuclear norm orders are only defined for\n",
            "    matrices and raise a ValueError when ``x.ndim != 2``.\n",
            "    \n",
            "    References\n",
            "    ----------\n",
            "    .. [1] G. H. Golub and C. F. Van Loan, *Matrix Computations*,\n",
            "           Baltimore, MD, Johns Hopkins University Press, 1985, pg. 15\n",
            "    \n",
            "    Examples\n",
            "    --------\n",
            "    >>> from numpy import linalg as LA\n",
            "    >>> a = np.arange(9) - 4\n",
            "    >>> a\n",
            "    array([-4, -3, -2, ...,  2,  3,  4])\n",
            "    >>> b = a.reshape((3, 3))\n",
            "    >>> b\n",
            "    array([[-4, -3, -2],\n",
            "           [-1,  0,  1],\n",
            "           [ 2,  3,  4]])\n",
            "    \n",
            "    >>> LA.norm(a)\n",
            "    7.745966692414834\n",
            "    >>> LA.norm(b)\n",
            "    7.745966692414834\n",
            "    >>> LA.norm(b, 'fro')\n",
            "    7.745966692414834\n",
            "    >>> LA.norm(a, np.inf)\n",
            "    4.0\n",
            "    >>> LA.norm(b, np.inf)\n",
            "    9.0\n",
            "    >>> LA.norm(a, -np.inf)\n",
            "    0.0\n",
            "    >>> LA.norm(b, -np.inf)\n",
            "    2.0\n",
            "    \n",
            "    >>> LA.norm(a, 1)\n",
            "    20.0\n",
            "    >>> LA.norm(b, 1)\n",
            "    7.0\n",
            "    >>> LA.norm(a, -1)\n",
            "    -4.6566128774142013e-010\n",
            "    >>> LA.norm(b, -1)\n",
            "    6.0\n",
            "    >>> LA.norm(a, 2)\n",
            "    7.745966692414834\n",
            "    >>> LA.norm(b, 2)\n",
            "    7.3484692283495345\n",
            "    \n",
            "    >>> LA.norm(a, -2)\n",
            "    0.0\n",
            "    >>> LA.norm(b, -2)\n",
            "    1.8570331885190563e-016 # may vary\n",
            "    >>> LA.norm(a, 3)\n",
            "    5.8480354764257312 # may vary\n",
            "    >>> LA.norm(a, -3)\n",
            "    0.0\n",
            "    \n",
            "    Using the `axis` argument to compute vector norms:\n",
            "    \n",
            "    >>> c = np.array([[ 1, 2, 3],\n",
            "    ...               [-1, 1, 4]])\n",
            "    >>> LA.norm(c, axis=0)\n",
            "    array([ 1.41421356,  2.23606798,  5.        ])\n",
            "    >>> LA.norm(c, axis=1)\n",
            "    array([ 3.74165739,  4.24264069])\n",
            "    >>> LA.norm(c, ord=1, axis=1)\n",
            "    array([ 6.,  6.])\n",
            "    \n",
            "    Using the `axis` argument to compute matrix norms:\n",
            "    \n",
            "    >>> m = np.arange(8).reshape(2,2,2)\n",
            "    >>> LA.norm(m, axis=(1,2))\n",
            "    array([  3.74165739,  11.22497216])\n",
            "    >>> LA.norm(m[0, :, :]), LA.norm(m[1, :, :])\n",
            "    (3.7416573867739413, 11.224972160321824)\n",
            "\n"
          ]
        }
      ],
      "source": [
        "#help(np.linalg) # View source\n",
        "\n",
        "help (np.linalg.norm)\n",
        "#help (np.dot)"
      ]
    },
    {
      "cell_type": "code",
      "execution_count": 5,
      "metadata": {
        "colab": {
          "base_uri": "https://localhost:8080/"
        },
        "id": "erNi-JXPt95c",
        "outputId": "2dd95192-a5d9-463e-d49d-74453715dc95"
      },
      "outputs": [
        {
          "output_type": "stream",
          "name": "stdout",
          "text": [
            "Norme di A:\n",
            "Norma1 =  3.001 \n",
            "\n",
            "Norma2 =  2.500200104037774 \n",
            "\n",
            "Normafro =  2.5002003919686118 \n",
            "\n",
            "Norma infinito =  3.0 \n",
            "\n",
            "K(A)_1 =  3001.0000000001082 \n",
            "\n",
            "K(A)_2 =  2083.6668534103555 \n",
            "\n",
            "K(A)_fro = 2083.6673333334084 \n",
            "\n",
            "K(A)_inf = 3001.0000000001082 \n",
            "\n",
            "b= [3.  1.5]\n",
            "A*xtilde =  [[3.    ]\n",
            " [1.4985]] \n",
            "\n",
            "delta x =  1.58113883008419\n",
            "delta b =  1.5018108475780652\n"
          ]
        }
      ],
      "source": [
        "A = np.array([[1, 2], [0.499, 1.001]])\n",
        "print ('Norme di A:')\n",
        "\n",
        "norm1 = np.linalg.norm(A,1)\n",
        "norm2 = np.linalg.norm(A,2)\n",
        "normfro = np.linalg.norm(A, 'fro')\n",
        "norminf = np.linalg.norm(A, np.inf)\n",
        "\n",
        "print('Norma1 = ', norm1, '\\n')\n",
        "print('Norma2 = ', norm2, '\\n')\n",
        "print('Normafro = ', normfro, '\\n')\n",
        "print('Norma infinito = ', norminf, '\\n')\n",
        "\n",
        "cond1 = np.linalg.cond(A, 1)\n",
        "cond2 = np.linalg.cond(A, 2)\n",
        "condfro = np.linalg.cond(A, 'fro')\n",
        "condinf = np.linalg.cond(A, np.inf)\n",
        "\n",
        "print ('K(A)_1 = ', cond1, '\\n')\n",
        "print ('K(A)_2 = ', cond2, '\\n')\n",
        "print ('K(A)_fro =', condfro, '\\n')\n",
        "print ('K(A)_inf =', condinf, '\\n')\n",
        "\n",
        "x = np.array([[1], [1]])\n",
        "x = np.ones((2, 1))\n",
        "x = np.array([1, 1]).T\n",
        "\n",
        "# Ax = b\n",
        "\n",
        "b = A.dot(x)\n",
        "print('b=', b)\n",
        "btilde = np.array([[3], [1.4985]])\n",
        "#xtilde = np.array([[2], [0.5]])\n",
        "xtilde = np.array([[2, 0.5]]).T\n",
        "\n",
        "# Verificare che xtilde è soluzione di A xtilde = btilde\n",
        "# A * xtilde = btilde\n",
        "print ('A*xtilde = ', A.dot(xtilde) , '\\n')\n",
        "\n",
        "deltax = np.linalg.norm(x-xtilde, ord=2)\n",
        "deltab = np.linalg.norm(b-btilde, ord=2)\n",
        "\n",
        "print ('delta x = ', deltax)\n",
        "print ('delta b = ', deltab)"
      ]
    },
    {
      "cell_type": "markdown",
      "metadata": {
        "id": "Hfxuot-Me71-"
      },
      "source": [
        "# **METODI DIRETTI**\n",
        "\n",
        "---\n",
        "\n",
        "La soluzione viene calcolata in un numero finito di passi, modificando la matrice del problema in modo da rendere piú agevole il calcolo della soluzione.\n",
        "\n",
        "*   Con matrici triangolari: metodi di sostituzione;\n",
        "*   Con qualsiasi matrice: metodo di eliminazione di Gauss;\n",
        "*   Con matrici simmetriche: metodo di Cholesky.\n"
      ]
    },
    {
      "cell_type": "markdown",
      "metadata": {
        "id": "42UwPIVVfLdz"
      },
      "source": [
        "# Esercizio 1\n",
        "\n",
        "Considera la matrice\n",
        "\\begin{equation*}\n",
        "A = \n",
        "\\begin{pmatrix}\n",
        "3 & -1 & 1 & -2 \\\\\n",
        "0 & 2  & 5 & -1 \\\\\n",
        "1 & 0  &-7 &  1 \\\\\n",
        "0 & 2  & 1 &  1  \n",
        "\\end{pmatrix}\n",
        "\\end{equation*}\n",
        "\n",
        "1. Crea il problema test in cui il vettore della soluzione esatta è $ x = (1, 1, 1, 1)^T$ e il vettore termine noto è $b = Ax$.\n",
        "2. Guarda l'help del modulo ${\\tt scipy.linalg.decomp\\_lu}$ e usa una delle sue funzioni per calcolare la fattorizzazione LU di A con pivolting. Verifica la correttezza dell'output.\n",
        "3. Risolvi il sistema lineare con la funzione ${\\tt lu\\_solve}$ del modulo decomp_lu oppure con ${\\tt scipy.linalg.solve\\_triangular}$.\n",
        "4. Visualizza la soluzione calcolata e valutane la correttezza.\n",
        "\n"
      ]
    },
    {
      "cell_type": "code",
      "execution_count": 6,
      "metadata": {
        "id": "AQO_fHCN_wgF"
      },
      "outputs": [],
      "source": [
        "#this only affects numpy arrays, not scalars\n",
        "float_formatter = \"{:.2f}\".format\n",
        "np.set_printoptions(formatter={'float_kind':float_formatter})  # oppure np.set_printoptions(precision=4)"
      ]
    },
    {
      "cell_type": "code",
      "execution_count": 7,
      "metadata": {
        "id": "oIIDcbixnm5L",
        "colab": {
          "base_uri": "https://localhost:8080/"
        },
        "outputId": "b51aa0e5-1f8c-4c70-bc0f-bfb07f05e499"
      },
      "outputs": [
        {
          "output_type": "stream",
          "name": "stdout",
          "text": [
            "[[3.00 -1.00 1.00 -2.00]\n",
            " [0.00 2.00 5.00 -1.00]\n",
            " [1.00 0.00 -7.00 1.00]\n",
            " [0.00 2.00 1.00 1.00]]\n",
            "K(A) =  14.208370392921388\n",
            "b=  [1.00 6.00 -5.00 4.00] \n",
            "\n"
          ]
        }
      ],
      "source": [
        "# 1. creazione del problema test\n",
        "\n",
        "A = np.array ([ [3,-1, 1,-2], [0, 2, 5, -1], [1, 0, -7, 1], [0, 2, 1, 1]  ], dtype=np.float)\n",
        "\n",
        "print (A)\n",
        "n= np.linalg.cond(A, 2)\n",
        "print ('K(A) = ', n)\n",
        "\n",
        "x = np.array([1,1,1,1]).T\n",
        "b = A.dot(x)\n",
        "\n",
        "print('b= ', b,'\\n')\n"
      ]
    },
    {
      "cell_type": "code",
      "execution_count": 8,
      "metadata": {
        "id": "pw-4PWhjMWcU",
        "colab": {
          "base_uri": "https://localhost:8080/"
        },
        "outputId": "c03a3665-a2ee-4199-f689-88db4219d9d1"
      },
      "outputs": [
        {
          "output_type": "stream",
          "name": "stdout",
          "text": [
            "Help on module scipy.linalg.decomp_lu in scipy.linalg:\n",
            "\n",
            "NAME\n",
            "    scipy.linalg.decomp_lu - LU decomposition functions.\n",
            "\n",
            "FUNCTIONS\n",
            "    lu(a, permute_l=False, overwrite_a=False, check_finite=True)\n",
            "        Compute pivoted LU decomposition of a matrix.\n",
            "        \n",
            "        The decomposition is::\n",
            "        \n",
            "            A = P L U\n",
            "        \n",
            "        where P is a permutation matrix, L lower triangular with unit\n",
            "        diagonal elements, and U upper triangular.\n",
            "        \n",
            "        Parameters\n",
            "        ----------\n",
            "        a : (M, N) array_like\n",
            "            Array to decompose\n",
            "        permute_l : bool, optional\n",
            "            Perform the multiplication P*L  (Default: do not permute)\n",
            "        overwrite_a : bool, optional\n",
            "            Whether to overwrite data in a (may improve performance)\n",
            "        check_finite : bool, optional\n",
            "            Whether to check that the input matrix contains only finite numbers.\n",
            "            Disabling may give a performance gain, but may result in problems\n",
            "            (crashes, non-termination) if the inputs do contain infinities or NaNs.\n",
            "        \n",
            "        Returns\n",
            "        -------\n",
            "        **(If permute_l == False)**\n",
            "        \n",
            "        p : (M, M) ndarray\n",
            "            Permutation matrix\n",
            "        l : (M, K) ndarray\n",
            "            Lower triangular or trapezoidal matrix with unit diagonal.\n",
            "            K = min(M, N)\n",
            "        u : (K, N) ndarray\n",
            "            Upper triangular or trapezoidal matrix\n",
            "        \n",
            "        **(If permute_l == True)**\n",
            "        \n",
            "        pl : (M, K) ndarray\n",
            "            Permuted L matrix.\n",
            "            K = min(M, N)\n",
            "        u : (K, N) ndarray\n",
            "            Upper triangular or trapezoidal matrix\n",
            "        \n",
            "        Notes\n",
            "        -----\n",
            "        This is a LU factorization routine written for SciPy.\n",
            "        \n",
            "        Examples\n",
            "        --------\n",
            "        >>> from scipy.linalg import lu\n",
            "        >>> A = np.array([[2, 5, 8, 7], [5, 2, 2, 8], [7, 5, 6, 6], [5, 4, 4, 8]])\n",
            "        >>> p, l, u = lu(A)\n",
            "        >>> np.allclose(A - p @ l @ u, np.zeros((4, 4)))\n",
            "        True\n",
            "    \n",
            "    lu_factor(a, overwrite_a=False, check_finite=True)\n",
            "        Compute pivoted LU decomposition of a matrix.\n",
            "        \n",
            "        The decomposition is::\n",
            "        \n",
            "            A = P L U\n",
            "        \n",
            "        where P is a permutation matrix, L lower triangular with unit\n",
            "        diagonal elements, and U upper triangular.\n",
            "        \n",
            "        Parameters\n",
            "        ----------\n",
            "        a : (M, M) array_like\n",
            "            Matrix to decompose\n",
            "        overwrite_a : bool, optional\n",
            "            Whether to overwrite data in A (may increase performance)\n",
            "        check_finite : bool, optional\n",
            "            Whether to check that the input matrix contains only finite numbers.\n",
            "            Disabling may give a performance gain, but may result in problems\n",
            "            (crashes, non-termination) if the inputs do contain infinities or NaNs.\n",
            "        \n",
            "        Returns\n",
            "        -------\n",
            "        lu : (N, N) ndarray\n",
            "            Matrix containing U in its upper triangle, and L in its lower triangle.\n",
            "            The unit diagonal elements of L are not stored.\n",
            "        piv : (N,) ndarray\n",
            "            Pivot indices representing the permutation matrix P:\n",
            "            row i of matrix was interchanged with row piv[i].\n",
            "        \n",
            "        See also\n",
            "        --------\n",
            "        lu_solve : solve an equation system using the LU factorization of a matrix\n",
            "        \n",
            "        Notes\n",
            "        -----\n",
            "        This is a wrapper to the ``*GETRF`` routines from LAPACK.\n",
            "        \n",
            "        Examples\n",
            "        --------\n",
            "        >>> from scipy.linalg import lu_factor\n",
            "        >>> A = np.array([[2, 5, 8, 7], [5, 2, 2, 8], [7, 5, 6, 6], [5, 4, 4, 8]])\n",
            "        >>> lu, piv = lu_factor(A)\n",
            "        >>> piv\n",
            "        array([2, 2, 3, 3], dtype=int32)\n",
            "        \n",
            "        Convert LAPACK's ``piv`` array to NumPy index and test the permutation \n",
            "        \n",
            "        >>> piv_py = [2, 0, 3, 1]\n",
            "        >>> L, U = np.tril(lu, k=-1) + np.eye(4), np.triu(lu)\n",
            "        >>> np.allclose(A[piv_py] - L @ U, np.zeros((4, 4)))\n",
            "        True\n",
            "    \n",
            "    lu_solve(lu_and_piv, b, trans=0, overwrite_b=False, check_finite=True)\n",
            "        Solve an equation system, a x = b, given the LU factorization of a\n",
            "        \n",
            "        Parameters\n",
            "        ----------\n",
            "        (lu, piv)\n",
            "            Factorization of the coefficient matrix a, as given by lu_factor\n",
            "        b : array\n",
            "            Right-hand side\n",
            "        trans : {0, 1, 2}, optional\n",
            "            Type of system to solve:\n",
            "        \n",
            "            =====  =========\n",
            "            trans  system\n",
            "            =====  =========\n",
            "            0      a x   = b\n",
            "            1      a^T x = b\n",
            "            2      a^H x = b\n",
            "            =====  =========\n",
            "        overwrite_b : bool, optional\n",
            "            Whether to overwrite data in b (may increase performance)\n",
            "        check_finite : bool, optional\n",
            "            Whether to check that the input matrices contain only finite numbers.\n",
            "            Disabling may give a performance gain, but may result in problems\n",
            "            (crashes, non-termination) if the inputs do contain infinities or NaNs.\n",
            "        \n",
            "        Returns\n",
            "        -------\n",
            "        x : array\n",
            "            Solution to the system\n",
            "        \n",
            "        See also\n",
            "        --------\n",
            "        lu_factor : LU factorize a matrix\n",
            "        \n",
            "        Examples\n",
            "        --------\n",
            "        >>> from scipy.linalg import lu_factor, lu_solve\n",
            "        >>> A = np.array([[2, 5, 8, 7], [5, 2, 2, 8], [7, 5, 6, 6], [5, 4, 4, 8]])\n",
            "        >>> b = np.array([1, 1, 1, 1])\n",
            "        >>> lu, piv = lu_factor(A)\n",
            "        >>> x = lu_solve((lu, piv), b)\n",
            "        >>> np.allclose(A @ x - b, np.zeros((4,)))\n",
            "        True\n",
            "\n",
            "DATA\n",
            "    __all__ = ['lu', 'lu_solve', 'lu_factor']\n",
            "\n",
            "FILE\n",
            "    /usr/local/lib/python3.7/dist-packages/scipy/linalg/decomp_lu.py\n",
            "\n",
            "\n"
          ]
        }
      ],
      "source": [
        "import scipy.linalg\n",
        "help (scipy.linalg.decomp_lu)\n",
        "\n",
        "# DESCRIPTION\n",
        "#    SciPy: A scientific computing package for Python\n",
        "#    Documentation is available in the docstrings and online at https://docs.scipy.org.\n",
        "# https://docs.scipy.org/doc/scipy/reference/"
      ]
    },
    {
      "cell_type": "code",
      "execution_count": 9,
      "metadata": {
        "id": "PRpV2rUNEmAS",
        "colab": {
          "base_uri": "https://localhost:8080/"
        },
        "outputId": "26aa662f-1136-4347-903d-83e43aff96bf"
      },
      "outputs": [
        {
          "output_type": "stream",
          "name": "stdout",
          "text": [
            "Help on module scipy.linalg.decomp_lu in scipy.linalg:\n",
            "\n",
            "NAME\n",
            "    scipy.linalg.decomp_lu - LU decomposition functions.\n",
            "\n",
            "FUNCTIONS\n",
            "    lu(a, permute_l=False, overwrite_a=False, check_finite=True)\n",
            "        Compute pivoted LU decomposition of a matrix.\n",
            "        \n",
            "        The decomposition is::\n",
            "        \n",
            "            A = P L U\n",
            "        \n",
            "        where P is a permutation matrix, L lower triangular with unit\n",
            "        diagonal elements, and U upper triangular.\n",
            "        \n",
            "        Parameters\n",
            "        ----------\n",
            "        a : (M, N) array_like\n",
            "            Array to decompose\n",
            "        permute_l : bool, optional\n",
            "            Perform the multiplication P*L  (Default: do not permute)\n",
            "        overwrite_a : bool, optional\n",
            "            Whether to overwrite data in a (may improve performance)\n",
            "        check_finite : bool, optional\n",
            "            Whether to check that the input matrix contains only finite numbers.\n",
            "            Disabling may give a performance gain, but may result in problems\n",
            "            (crashes, non-termination) if the inputs do contain infinities or NaNs.\n",
            "        \n",
            "        Returns\n",
            "        -------\n",
            "        **(If permute_l == False)**\n",
            "        \n",
            "        p : (M, M) ndarray\n",
            "            Permutation matrix\n",
            "        l : (M, K) ndarray\n",
            "            Lower triangular or trapezoidal matrix with unit diagonal.\n",
            "            K = min(M, N)\n",
            "        u : (K, N) ndarray\n",
            "            Upper triangular or trapezoidal matrix\n",
            "        \n",
            "        **(If permute_l == True)**\n",
            "        \n",
            "        pl : (M, K) ndarray\n",
            "            Permuted L matrix.\n",
            "            K = min(M, N)\n",
            "        u : (K, N) ndarray\n",
            "            Upper triangular or trapezoidal matrix\n",
            "        \n",
            "        Notes\n",
            "        -----\n",
            "        This is a LU factorization routine written for SciPy.\n",
            "        \n",
            "        Examples\n",
            "        --------\n",
            "        >>> from scipy.linalg import lu\n",
            "        >>> A = np.array([[2, 5, 8, 7], [5, 2, 2, 8], [7, 5, 6, 6], [5, 4, 4, 8]])\n",
            "        >>> p, l, u = lu(A)\n",
            "        >>> np.allclose(A - p @ l @ u, np.zeros((4, 4)))\n",
            "        True\n",
            "    \n",
            "    lu_factor(a, overwrite_a=False, check_finite=True)\n",
            "        Compute pivoted LU decomposition of a matrix.\n",
            "        \n",
            "        The decomposition is::\n",
            "        \n",
            "            A = P L U\n",
            "        \n",
            "        where P is a permutation matrix, L lower triangular with unit\n",
            "        diagonal elements, and U upper triangular.\n",
            "        \n",
            "        Parameters\n",
            "        ----------\n",
            "        a : (M, M) array_like\n",
            "            Matrix to decompose\n",
            "        overwrite_a : bool, optional\n",
            "            Whether to overwrite data in A (may increase performance)\n",
            "        check_finite : bool, optional\n",
            "            Whether to check that the input matrix contains only finite numbers.\n",
            "            Disabling may give a performance gain, but may result in problems\n",
            "            (crashes, non-termination) if the inputs do contain infinities or NaNs.\n",
            "        \n",
            "        Returns\n",
            "        -------\n",
            "        lu : (N, N) ndarray\n",
            "            Matrix containing U in its upper triangle, and L in its lower triangle.\n",
            "            The unit diagonal elements of L are not stored.\n",
            "        piv : (N,) ndarray\n",
            "            Pivot indices representing the permutation matrix P:\n",
            "            row i of matrix was interchanged with row piv[i].\n",
            "        \n",
            "        See also\n",
            "        --------\n",
            "        lu_solve : solve an equation system using the LU factorization of a matrix\n",
            "        \n",
            "        Notes\n",
            "        -----\n",
            "        This is a wrapper to the ``*GETRF`` routines from LAPACK.\n",
            "        \n",
            "        Examples\n",
            "        --------\n",
            "        >>> from scipy.linalg import lu_factor\n",
            "        >>> A = np.array([[2, 5, 8, 7], [5, 2, 2, 8], [7, 5, 6, 6], [5, 4, 4, 8]])\n",
            "        >>> lu, piv = lu_factor(A)\n",
            "        >>> piv\n",
            "        array([2, 2, 3, 3], dtype=int32)\n",
            "        \n",
            "        Convert LAPACK's ``piv`` array to NumPy index and test the permutation \n",
            "        \n",
            "        >>> piv_py = [2, 0, 3, 1]\n",
            "        >>> L, U = np.tril(lu, k=-1) + np.eye(4), np.triu(lu)\n",
            "        >>> np.allclose(A[piv_py] - L @ U, np.zeros((4, 4)))\n",
            "        True\n",
            "    \n",
            "    lu_solve(lu_and_piv, b, trans=0, overwrite_b=False, check_finite=True)\n",
            "        Solve an equation system, a x = b, given the LU factorization of a\n",
            "        \n",
            "        Parameters\n",
            "        ----------\n",
            "        (lu, piv)\n",
            "            Factorization of the coefficient matrix a, as given by lu_factor\n",
            "        b : array\n",
            "            Right-hand side\n",
            "        trans : {0, 1, 2}, optional\n",
            "            Type of system to solve:\n",
            "        \n",
            "            =====  =========\n",
            "            trans  system\n",
            "            =====  =========\n",
            "            0      a x   = b\n",
            "            1      a^T x = b\n",
            "            2      a^H x = b\n",
            "            =====  =========\n",
            "        overwrite_b : bool, optional\n",
            "            Whether to overwrite data in b (may increase performance)\n",
            "        check_finite : bool, optional\n",
            "            Whether to check that the input matrices contain only finite numbers.\n",
            "            Disabling may give a performance gain, but may result in problems\n",
            "            (crashes, non-termination) if the inputs do contain infinities or NaNs.\n",
            "        \n",
            "        Returns\n",
            "        -------\n",
            "        x : array\n",
            "            Solution to the system\n",
            "        \n",
            "        See also\n",
            "        --------\n",
            "        lu_factor : LU factorize a matrix\n",
            "        \n",
            "        Examples\n",
            "        --------\n",
            "        >>> from scipy.linalg import lu_factor, lu_solve\n",
            "        >>> A = np.array([[2, 5, 8, 7], [5, 2, 2, 8], [7, 5, 6, 6], [5, 4, 4, 8]])\n",
            "        >>> b = np.array([1, 1, 1, 1])\n",
            "        >>> lu, piv = lu_factor(A)\n",
            "        >>> x = lu_solve((lu, piv), b)\n",
            "        >>> np.allclose(A @ x - b, np.zeros((4,)))\n",
            "        True\n",
            "\n",
            "DATA\n",
            "    __all__ = ['lu', 'lu_solve', 'lu_factor']\n",
            "\n",
            "FILE\n",
            "    /usr/local/lib/python3.7/dist-packages/scipy/linalg/decomp_lu.py\n",
            "\n",
            "\n"
          ]
        }
      ],
      "source": [
        "import scipy.linalg\n",
        "# help (scipy.linalg)\n",
        "import scipy.linalg.decomp_lu as LUdec # è un module, con ['lu', 'lu_solve', 'lu_factor']\n",
        "help (scipy.linalg.decomp_lu)"
      ]
    },
    {
      "cell_type": "code",
      "execution_count": 10,
      "metadata": {
        "id": "36tbptA28qfK",
        "colab": {
          "base_uri": "https://localhost:8080/"
        },
        "outputId": "350cc624-cba6-4046-8883-8c369ae2068d"
      },
      "outputs": [
        {
          "output_type": "stream",
          "name": "stdout",
          "text": [
            "[[1.00 0.00 0.00 0.00]\n",
            " [0.00 1.00 0.00 0.00]\n",
            " [0.00 0.00 1.00 0.00]\n",
            " [0.00 0.00 0.00 1.00]]\n",
            "[[1.00 0.00 0.00 0.00]\n",
            " [0.00 1.00 0.00 0.00]\n",
            " [0.33 0.17 1.00 0.00]\n",
            " [0.00 1.00 0.49 1.00]]\n",
            "[[3.00 -1.00 1.00 -2.00]\n",
            " [0.00 2.00 5.00 -1.00]\n",
            " [0.00 0.00 -8.17 1.83]\n",
            " [0.00 0.00 0.00 1.10]]\n"
          ]
        }
      ],
      "source": [
        "# 2. fattorizzazione lu\n",
        "p,l,u = LUdec.lu(A)\n",
        "print(p)\n",
        "print(l)\n",
        "print(u)"
      ]
    },
    {
      "cell_type": "code",
      "execution_count": 11,
      "metadata": {
        "id": "j8nqvKFo_Eoa",
        "colab": {
          "base_uri": "https://localhost:8080/"
        },
        "outputId": "0e25be44-40eb-498b-aef6-3f35643f1946"
      },
      "outputs": [
        {
          "output_type": "stream",
          "name": "stdout",
          "text": [
            "[1.00 1.00 1.00 1.00]\n"
          ]
        }
      ],
      "source": [
        " # 3. risoluzione\n",
        "# Ax = b   <--->  PLUx = b  <--->  LUx = inv(P)b  <--->  Ly=inv(P)b & Ux=y : matrici triangolari\n",
        "# Ax = b   <--->  PLUx = b  <--->  PLy=b & Ux=y : PL matrice non triangolare\n",
        "\n",
        "lu, piv = LUdec.lu_factor(A)\n",
        "my_x = LUdec.lu_solve((lu, piv), b)\n",
        "print(my_x)\n"
      ]
    },
    {
      "cell_type": "code",
      "execution_count": 12,
      "metadata": {
        "id": "KSCg7hsQ8tqH",
        "colab": {
          "base_uri": "https://localhost:8080/"
        },
        "outputId": "50790a32-d108-4922-8330-f171a32a93f4"
      },
      "outputs": [
        {
          "output_type": "stream",
          "name": "stdout",
          "text": [
            "\n",
            "Soluzione calcolata:  [1.00 1.00 1.00 1.00]\n",
            "1.0000\n",
            "1.0000\n",
            "1.0000\n",
            "1.0000\n",
            "7.021666937153402e-16\n"
          ]
        }
      ],
      "source": [
        "# 4. verifica \n",
        "print('\\nSoluzione calcolata: ',my_x)\n",
        "n=np.size(my_x)\n",
        "for i in range(n):\n",
        "    print('%0.4f' %my_x[i])\n",
        "\n",
        "print(np.linalg.norm(x-my_x, 2))"
      ]
    },
    {
      "cell_type": "code",
      "execution_count": 13,
      "metadata": {
        "id": "zaayBeOhnZdh",
        "colab": {
          "base_uri": "https://localhost:8080/"
        },
        "outputId": "2a7d4c78-4004-4c44-bd33-eda4929c8d43"
      },
      "outputs": [
        {
          "output_type": "stream",
          "name": "stdout",
          "text": [
            "\n",
            "Soluzione calcolata:  [1.00 1.00 1.00 1.00]\n",
            "1.00\n",
            "1.00\n",
            "1.00\n",
            "1.00\n"
          ]
        }
      ],
      "source": [
        "# IMPLEMENTAZIONE ALTERNATIVA \n",
        "\n",
        "# fattorizzazione\n",
        "p,l,u = LUdec.lu(A)\n",
        "# risoluzione di    Ax = b   <--->  PLUx = b  <--->  PLy=b & Ux=y  <--->  Ly=Pb & Ux=y\n",
        "invP = np.linalg.inv(p)\n",
        "b_piv = np.matmul(invP, b)\n",
        "y = scipy.linalg.solve_triangular(l,b_piv, lower=True)\n",
        "my_x = scipy.linalg.solve_triangular(u,y)\n",
        "\n",
        "# verifica\n",
        "print('\\nSoluzione calcolata: ', my_x)\n",
        "n = np.size(my_x)\n",
        "for i in range(n):\n",
        "    print('%0.2f' %my_x[i])"
      ]
    },
    {
      "cell_type": "markdown",
      "metadata": {
        "id": "PBOTf82qO04J"
      },
      "source": [
        "# Esercizio 2\n",
        "\n",
        "Ripeti l'esercizio 1 sulla matrice di Hilbert, creata con ${\\tt A = scipy.linalg.hilbert(n)}$ per $n=5,\\ldots,10$. In particolare:\n",
        "* calcola il numero di condizionamento di A\n",
        "* Considera il vettore colonna $x = (1,\\ldots,1)^T$, calcola il corrispondente termine noto $b$ per il sistema lineare $Ax = b$ e la relativa soluzione $\\tilde{x}$ usando la fattorizzazione LU come nel caso precedente."
      ]
    },
    {
      "cell_type": "code",
      "execution_count": 14,
      "metadata": {
        "id": "9bkbnwdznzuX",
        "colab": {
          "base_uri": "https://localhost:8080/"
        },
        "outputId": "973befa4-78fa-4629-a627-f6adbc2b1041"
      },
      "outputs": [
        {
          "output_type": "stream",
          "name": "stdout",
          "text": [
            "[[1.00 0.50 0.33 0.25 0.20]\n",
            " [0.50 0.33 0.25 0.20 0.17]\n",
            " [0.33 0.25 0.20 0.17 0.14]\n",
            " [0.25 0.20 0.17 0.14 0.12]\n",
            " [0.20 0.17 0.14 0.12 0.11]]\n",
            "[[1.00]\n",
            " [1.00]\n",
            " [1.00]\n",
            " [1.00]\n",
            " [1.00]]\n",
            "b =\n",
            " [[2.28]\n",
            " [1.45]\n",
            " [1.09]\n",
            " [0.88]\n",
            " [0.75]]\n",
            "x tilde = \n",
            " [[1.00]\n",
            " [1.00]\n",
            " [1.00]\n",
            " [1.00]\n",
            " [1.00]]\n"
          ]
        }
      ],
      "source": [
        "n=5\n",
        "A = scipy.linalg.hilbert(n)\n",
        "print(A)\n",
        "x = np.array(np.ones((n,1)))\n",
        "print(x)\n",
        "b = A.dot(x)\n",
        "print('b =\\n', b,)\n",
        "lu, piv = LUdec.lu_factor(A)\n",
        "x_tilde = LUdec.lu_solve((lu, piv), b)\n",
        "print('x tilde = \\n', x_tilde)"
      ]
    },
    {
      "cell_type": "markdown",
      "metadata": {
        "id": "0prxE9uKSP4R"
      },
      "source": [
        "# Esercizio 3\n",
        "Scrivi le due funzioni ${\\tt LTrisol()}$ e ${\\tt UTrisol()}$ per implementare i metodi di sostituzione all'avanti e all'indietro, poi:\n",
        "* usa la fattorizzazione ${\\tt P, L, U = LUdec.lu(A) }$ sulla matrice degli esercizi precedenti;\n",
        "* risolvi i sistemi triangolari usando la tue funzioni.\n",
        "\n"
      ]
    },
    {
      "cell_type": "code",
      "source": [
        "help(range)"
      ],
      "metadata": {
        "id": "8QiN3e_0q-xm",
        "colab": {
          "base_uri": "https://localhost:8080/"
        },
        "outputId": "54499be8-bb8f-4fd1-fc08-63034b170e28"
      },
      "execution_count": 15,
      "outputs": [
        {
          "output_type": "stream",
          "name": "stdout",
          "text": [
            "Help on class range in module builtins:\n",
            "\n",
            "class range(object)\n",
            " |  range(stop) -> range object\n",
            " |  range(start, stop[, step]) -> range object\n",
            " |  \n",
            " |  Return an object that produces a sequence of integers from start (inclusive)\n",
            " |  to stop (exclusive) by step.  range(i, j) produces i, i+1, i+2, ..., j-1.\n",
            " |  start defaults to 0, and stop is omitted!  range(4) produces 0, 1, 2, 3.\n",
            " |  These are exactly the valid indices for a list of 4 elements.\n",
            " |  When step is given, it specifies the increment (or decrement).\n",
            " |  \n",
            " |  Methods defined here:\n",
            " |  \n",
            " |  __bool__(self, /)\n",
            " |      self != 0\n",
            " |  \n",
            " |  __contains__(self, key, /)\n",
            " |      Return key in self.\n",
            " |  \n",
            " |  __eq__(self, value, /)\n",
            " |      Return self==value.\n",
            " |  \n",
            " |  __ge__(self, value, /)\n",
            " |      Return self>=value.\n",
            " |  \n",
            " |  __getattribute__(self, name, /)\n",
            " |      Return getattr(self, name).\n",
            " |  \n",
            " |  __getitem__(self, key, /)\n",
            " |      Return self[key].\n",
            " |  \n",
            " |  __gt__(self, value, /)\n",
            " |      Return self>value.\n",
            " |  \n",
            " |  __hash__(self, /)\n",
            " |      Return hash(self).\n",
            " |  \n",
            " |  __iter__(self, /)\n",
            " |      Implement iter(self).\n",
            " |  \n",
            " |  __le__(self, value, /)\n",
            " |      Return self<=value.\n",
            " |  \n",
            " |  __len__(self, /)\n",
            " |      Return len(self).\n",
            " |  \n",
            " |  __lt__(self, value, /)\n",
            " |      Return self<value.\n",
            " |  \n",
            " |  __ne__(self, value, /)\n",
            " |      Return self!=value.\n",
            " |  \n",
            " |  __reduce__(...)\n",
            " |      Helper for pickle.\n",
            " |  \n",
            " |  __repr__(self, /)\n",
            " |      Return repr(self).\n",
            " |  \n",
            " |  __reversed__(...)\n",
            " |      Return a reverse iterator.\n",
            " |  \n",
            " |  count(...)\n",
            " |      rangeobject.count(value) -> integer -- return number of occurrences of value\n",
            " |  \n",
            " |  index(...)\n",
            " |      rangeobject.index(value) -> integer -- return index of value.\n",
            " |      Raise ValueError if the value is not present.\n",
            " |  \n",
            " |  ----------------------------------------------------------------------\n",
            " |  Static methods defined here:\n",
            " |  \n",
            " |  __new__(*args, **kwargs) from builtins.type\n",
            " |      Create and return a new object.  See help(type) for accurate signature.\n",
            " |  \n",
            " |  ----------------------------------------------------------------------\n",
            " |  Data descriptors defined here:\n",
            " |  \n",
            " |  start\n",
            " |  \n",
            " |  step\n",
            " |  \n",
            " |  stop\n",
            "\n"
          ]
        }
      ]
    },
    {
      "cell_type": "code",
      "execution_count": 16,
      "metadata": {
        "id": "KA_rVKCDZ0oD",
        "colab": {
          "base_uri": "https://localhost:8080/"
        },
        "outputId": "599a8b77-b7a2-4f83-cb6e-054dc4c50128"
      },
      "outputs": [
        {
          "output_type": "stream",
          "name": "stdout",
          "text": [
            "\n",
            "Soluzione parziale y:\n",
            "1.00\n",
            "6.00\n",
            "-6.33\n",
            "1.10\n",
            "\n",
            "Soluzione calcolata:\n",
            "1.00\n",
            "1.00\n",
            "1.00\n",
            "1.00\n"
          ]
        }
      ],
      "source": [
        "# y = LTrisol(L,b)\n",
        "# my_x = UTrisol(U,y)\n",
        "\n",
        "def LTrisol(L,b):\n",
        "  n=b.size\n",
        "  x=np.zeros(n)\n",
        "  x[0]=  b[0]/L[0,0]\n",
        "  for i in range(1,n):\n",
        "    x[i]= (b[i]-np.dot(x[0:i],L[i,0:i]))/L[i,i]\n",
        "    #L(i,i) dovrebbe sempre essere 1 per qualsiasi i dato che sulla diagonale di L ci sono sempre 1, quindi dovrebbe essere inutile fare /L[i,i]\n",
        "  return x\n",
        "\n",
        "def UTrisol(U,b):\n",
        "  n=b.size\n",
        "  x=np.zeros(n)\n",
        "  x[n-1]=  b[n-1]/U[n-1,n-1]\n",
        "  for i in range(n-2,-1,-1):\n",
        "    x[i]= (b[i]-np.dot(U[i,i+1:n],x[i+1:n]))/U[i,i]\n",
        "  return x\n",
        "\n",
        "A = np.array ([ [3,-1, 1,-2], [0, 2, 5, -1], [1, 0, -7, 1], [0, 2, 1, 1]  ], dtype=np.float)\n",
        "n = A.shape[1]\n",
        "x = np.ones( (n,1) )\n",
        "b = np.dot(A,x)\n",
        "\n",
        "p,l,u = LUdec.lu(A)\n",
        "\n",
        "\n",
        "# Ax = b   <--->  PLUx = b  <--->  LUx = invPb  <--->  Ly=invPb & Ux=y\n",
        "Pinv = np.linalg.inv(p)\n",
        "y = LTrisol(l, np.matmul(Pinv,b) )\n",
        "my_x = UTrisol(u,y)\n",
        "\n",
        "print('\\nSoluzione parziale y:' )\n",
        "for i in range(n):\n",
        "    print('%0.2f' %y[i])\n",
        "print('\\nSoluzione calcolata:' )\n",
        "for i in range(n):\n",
        "    print('%0.2f' %my_x[i])"
      ]
    },
    {
      "cell_type": "markdown",
      "metadata": {
        "id": "Dpz3I1_sOkDf"
      },
      "source": [
        "# Esercizio 4\n",
        "\n",
        "Comprendere i seguenti codici che implementano la fattorizzazione LU senza pivoting."
      ]
    },
    {
      "cell_type": "code",
      "execution_count": 17,
      "metadata": {
        "id": "cllOy8C2Oz_l"
      },
      "outputs": [],
      "source": [
        "# LU senza pivoting\n",
        "\n",
        "def LU_fact_NOpiv(A):\n",
        "  a = np.copy(A)\n",
        "  n=a.shape[1]\n",
        "  \n",
        "  for k in range(n-1):\n",
        "    if a[k, k] != 0:\n",
        "      a[k+1:, k] = a[k+1:, k]/a[k,k]\n",
        "      \n",
        "      a1 = np.expand_dims(a[k+1:, k], 1)\n",
        "      a2 = np.expand_dims(a[k, k+1:], 0)\n",
        "      a[k+1:, k+1:] = a[k+1:, k+1:] - (a1 * a2)\n",
        "  return a"
      ]
    },
    {
      "cell_type": "markdown",
      "source": [
        "Usa np.expand_dims per poter avere le righe e le colonne come array bidimensionali per poter fare la moltiplicazione elemento per elemento delle due matrici dopo"
      ],
      "metadata": {
        "id": "gGjBViJ690RD"
      }
    },
    {
      "cell_type": "code",
      "source": [
        "help(np.newaxis)"
      ],
      "metadata": {
        "colab": {
          "base_uri": "https://localhost:8080/"
        },
        "id": "Ucn0KkTQJ4CQ",
        "outputId": "dd3f8e98-d6e5-4bc8-9dc9-5d77d11843ab"
      },
      "execution_count": 18,
      "outputs": [
        {
          "output_type": "stream",
          "name": "stdout",
          "text": [
            "Help on NoneType object:\n",
            "\n",
            "class NoneType(object)\n",
            " |  Methods defined here:\n",
            " |  \n",
            " |  __bool__(self, /)\n",
            " |      self != 0\n",
            " |  \n",
            " |  __repr__(self, /)\n",
            " |      Return repr(self).\n",
            " |  \n",
            " |  ----------------------------------------------------------------------\n",
            " |  Static methods defined here:\n",
            " |  \n",
            " |  __new__(*args, **kwargs) from builtins.type\n",
            " |      Create and return a new object.  See help(type) for accurate signature.\n",
            "\n"
          ]
        }
      ]
    },
    {
      "cell_type": "markdown",
      "metadata": {
        "id": "Zr_cTraoPf_x"
      },
      "source": [
        "# Esercizio 5\n",
        "Calcola la fattorizzazione di Choleski sulla matrice A generata come\n",
        "\n",
        "${\\tt A = np.array ([ [3,-1, 1,-2], [0, 2, 5, -1], [1, 0, -7, 1], [0, 2, 1, 1]  ], dtype=np.float)}$\n",
        "${\\tt A = np.matmul( A, np.transpose(A) )}$\n",
        "\n",
        "usando la funzione ${\\tt np.linalg.cholesky}$.\n",
        "* Verifica la correttezza della fattorizzazione.\n",
        "* Risolvi il sistema lineare Ax = b dove ${\\tt x = (1, 1, 1, 1)^T}$ . "
      ]
    },
    {
      "cell_type": "code",
      "source": [
        "x=np.arange(3)\n",
        "print(x[:,np.newaxis].shape)"
      ],
      "metadata": {
        "colab": {
          "base_uri": "https://localhost:8080/"
        },
        "id": "gyLjwLsiCthM",
        "outputId": "fc430137-5b77-4532-c357-e99603507459"
      },
      "execution_count": 19,
      "outputs": [
        {
          "output_type": "stream",
          "name": "stdout",
          "text": [
            "(3, 1)\n"
          ]
        }
      ]
    },
    {
      "cell_type": "code",
      "execution_count": 20,
      "metadata": {
        "id": "9GMh8LZ1eBIm",
        "colab": {
          "base_uri": "https://localhost:8080/"
        },
        "outputId": "a83f69e6-5f72-4e0b-cd56-b10a4eff3cd1"
      },
      "outputs": [
        {
          "output_type": "stream",
          "name": "stdout",
          "text": [
            "Help on function cholesky in module numpy.linalg:\n",
            "\n",
            "cholesky(a)\n",
            "    Cholesky decomposition.\n",
            "    \n",
            "    Return the Cholesky decomposition, `L * L.H`, of the square matrix `a`,\n",
            "    where `L` is lower-triangular and .H is the conjugate transpose operator\n",
            "    (which is the ordinary transpose if `a` is real-valued).  `a` must be\n",
            "    Hermitian (symmetric if real-valued) and positive-definite. No\n",
            "    checking is performed to verify whether `a` is Hermitian or not.\n",
            "    In addition, only the lower-triangular and diagonal elements of `a`\n",
            "    are used. Only `L` is actually returned.\n",
            "    \n",
            "    Parameters\n",
            "    ----------\n",
            "    a : (..., M, M) array_like\n",
            "        Hermitian (symmetric if all elements are real), positive-definite\n",
            "        input matrix.\n",
            "    \n",
            "    Returns\n",
            "    -------\n",
            "    L : (..., M, M) array_like\n",
            "        Upper or lower-triangular Cholesky factor of `a`.  Returns a\n",
            "        matrix object if `a` is a matrix object.\n",
            "    \n",
            "    Raises\n",
            "    ------\n",
            "    LinAlgError\n",
            "       If the decomposition fails, for example, if `a` is not\n",
            "       positive-definite.\n",
            "    \n",
            "    See Also\n",
            "    --------\n",
            "    scipy.linalg.cholesky : Similar function in SciPy.\n",
            "    scipy.linalg.cholesky_banded : Cholesky decompose a banded Hermitian\n",
            "                                   positive-definite matrix.\n",
            "    scipy.linalg.cho_factor : Cholesky decomposition of a matrix, to use in\n",
            "                              `scipy.linalg.cho_solve`.\n",
            "    \n",
            "    Notes\n",
            "    -----\n",
            "    \n",
            "    .. versionadded:: 1.8.0\n",
            "    \n",
            "    Broadcasting rules apply, see the `numpy.linalg` documentation for\n",
            "    details.\n",
            "    \n",
            "    The Cholesky decomposition is often used as a fast way of solving\n",
            "    \n",
            "    .. math:: A \\mathbf{x} = \\mathbf{b}\n",
            "    \n",
            "    (when `A` is both Hermitian/symmetric and positive-definite).\n",
            "    \n",
            "    First, we solve for :math:`\\mathbf{y}` in\n",
            "    \n",
            "    .. math:: L \\mathbf{y} = \\mathbf{b},\n",
            "    \n",
            "    and then for :math:`\\mathbf{x}` in\n",
            "    \n",
            "    .. math:: L.H \\mathbf{x} = \\mathbf{y}.\n",
            "    \n",
            "    Examples\n",
            "    --------\n",
            "    >>> A = np.array([[1,-2j],[2j,5]])\n",
            "    >>> A\n",
            "    array([[ 1.+0.j, -0.-2.j],\n",
            "           [ 0.+2.j,  5.+0.j]])\n",
            "    >>> L = np.linalg.cholesky(A)\n",
            "    >>> L\n",
            "    array([[1.+0.j, 0.+0.j],\n",
            "           [0.+2.j, 1.+0.j]])\n",
            "    >>> np.dot(L, L.T.conj()) # verify that L * L.H = A\n",
            "    array([[1.+0.j, 0.-2.j],\n",
            "           [0.+2.j, 5.+0.j]])\n",
            "    >>> A = [[1,-2j],[2j,5]] # what happens if A is only array_like?\n",
            "    >>> np.linalg.cholesky(A) # an ndarray object is returned\n",
            "    array([[1.+0.j, 0.+0.j],\n",
            "           [0.+2.j, 1.+0.j]])\n",
            "    >>> # But a matrix object is returned if A is a matrix object\n",
            "    >>> np.linalg.cholesky(np.matrix(A))\n",
            "    matrix([[ 1.+0.j,  0.+0.j],\n",
            "            [ 0.+2.j,  1.+0.j]])\n",
            "\n"
          ]
        }
      ],
      "source": [
        "help(np.linalg.cholesky)"
      ]
    },
    {
      "cell_type": "markdown",
      "metadata": {
        "id": "tsGUuIFCVBgs"
      },
      "source": [
        "# **METODI ITERATIVI**\n",
        "\n",
        "---\n",
        "\n",
        "Calcolo di una soluzione come limite di una successione di approssimazioni $x_k$, senza modificare la struttura della matrice A. Sono metodi adatti per sistemi di grandi dimensioni con matrici sparse (pochi elementi non nulli).\n",
        "![metodiiterativi.png](data:image/png;base64,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)"
      ]
    },
    {
      "cell_type": "markdown",
      "metadata": {
        "id": "DEk1bwynTFDL"
      },
      "source": [
        "# Esercizio 6\n",
        "\n",
        "Scrivi le funzioni \n",
        "${\\tt Jacobi(A,b,x0,maxit,tol, xTrue)}$ e ${\\tt GaussSeidel(A,b,x0,maxit,tol, xTrue)}$\n",
        "per implementare i metodi di Jacobi e di Gauss Seidel per la risoluzione di sistemi lineari con matrice a diagonale dominante. In particolare:\n",
        "* ${\\tt x0}$ sia l'iterato iniziale;\n",
        "* la condizione d'arresto sia dettata dal numero massimo di iterazioni consentite ${\\tt maxit}$ e dalla tolleranza ${\\tt tol}$ sulla differenza relativa fra due iterati successivi;\n",
        "* si preveda in input la soluzione esatta ${\\tt xTrue}$ per calcolare l'errore relativo ad ogni iterazione.\n",
        "\n",
        "Entrambe le funzioni restituiscano in output:\n",
        "* la soluzione ${\\tt x}$;\n",
        "* il numero ${\\tt k}$ di iterazioni effettuate;\n",
        "* il vettore ${\\tt relErr}$ di tutti gli errori relativi.\n"
      ]
    },
    {
      "cell_type": "code",
      "execution_count": 31,
      "metadata": {
        "id": "xdT0qYatTTcK"
      },
      "outputs": [],
      "source": [
        "def Jacobi(A,b,x0,maxit,tol, xTrue):\n",
        "  n=np.size(x0)     \n",
        "  ite=0\n",
        "  x = np.copy(x0)\n",
        "  relErr=np.zeros((maxit, 1))\n",
        "  errIter=np.zeros((maxit, 1))\n",
        "  relErr[0]=np.linalg.norm(xTrue-x0)/np.linalg.norm(xTrue)\n",
        "  errIter[0]=tol+1\n",
        "  while(ite<maxit and errIter[ite]>tol):\n",
        "    x_old=np.copy(x)\n",
        "    for i in range(0,n):\n",
        "      x[i]= ( b[i] - np.dot(A[i,0:i],x_old[0:i]) - np.dot(A[i,i+1:n],x_old[i+1:n]) ) / A[i,i]\n",
        "    ite=ite+1\n",
        "    relErr[ite] = np.linalg.norm(xTrue - x)/np. linalg.norm(xTrue)\n",
        "    errIter[ite] = np.linalg.norm(x-x_old)/np.linalg.norm(x)\n",
        "  relErr=relErr[:ite]\n",
        "  errIter=errIter[:ite]\n",
        "  return [x, ite, relErr]"
      ]
    },
    {
      "cell_type": "code",
      "execution_count": 32,
      "metadata": {
        "id": "vWCs7hgtPvhc"
      },
      "outputs": [],
      "source": [
        "def GaussSeidel(A,b,x0,maxit,tol, xTrue):\n",
        "  n=np.size(x0)\n",
        "  ite=0 \n",
        "  x = np.copy(x0)\n",
        "  relErr=np.zeros((maxit,1))\n",
        "  errIter=np.zeros((maxit,1))\n",
        "  relErr[0]=np.linalg.norm(xTrue-x0)/np.linalg.norm(xTrue)\n",
        "  errIter[0]=tol+1\n",
        "  while ite<maxit and  errIter[ite]>tol:\n",
        "    x_old=np.copy(x)\n",
        "    for i in range(0,n):\n",
        "      x[i] = ( b[i] -  np.dot(A[i,0:i], x[0:i]) - np.dot(A[i,i+1:n], x_old[i+1:n]) )/ A[i,i]\n",
        "    ite=ite+1\n",
        "    relErr[ite]=np.linalg.norm(xTrue - x)/np.linalg.norm(xTrue)\n",
        "    errIter[ite]=np.linalg.norm(x - x_old)/np.linalg.norm(x)\n",
        "  relErr=relErr[:ite]\n",
        "  errIter=errIter[:ite]\n",
        "  return [x, ite, relErr]"
      ]
    },
    {
      "cell_type": "markdown",
      "metadata": {
        "id": "oIrtsqNnTUQN"
      },
      "source": [
        "#Esercizio 7\n",
        "Testa le due funzioni dell'esercizio precedente per risolvere il sistema lineare Ax = b dove A è la matrice 10x10\n",
        "\\begin{equation*}\n",
        "A = \n",
        "\\begin{pmatrix}\n",
        "5 & 1 & 0 & 0 & ... & 0 \\\\\n",
        "1 & 5 & 1 & 0 & ... & 0 \\\\\n",
        "0 & 1 & \\ddots & \\ddots & \\vdots & \\vdots \\\\\n",
        "0 & 0 & \\ddots & 5 & 1 & 0 \\\\\n",
        "0 & 0 & ... & 1 &  5  & 1 \\\\\n",
        "0 & 0 & ... & 0 &  1  & 5 \\\\\n",
        "\\end{pmatrix}\n",
        "\\end{equation*}\n",
        "e ${\\tt x = (1, 1, ..., 1)^T}$ la soluzione esatta.\n",
        "\n",
        "Confronta i due metodi e grafica in un unico plot i due vettori ${\\tt relErr}$.\n"
      ]
    },
    {
      "cell_type": "code",
      "source": [
        "A = np.dot(5, np.eye(10)) + np.eye(10, k=1) + np.eye(10, k=-1)\n",
        "\n",
        "print(A)\n",
        "\n",
        "xTrue = np.ones((1,10))\n",
        "print(xTrue)"
      ],
      "metadata": {
        "id": "P0wLmd04J6O4",
        "colab": {
          "base_uri": "https://localhost:8080/"
        },
        "outputId": "c89ccf33-6021-4fea-863b-508e5a5974e4"
      },
      "execution_count": 23,
      "outputs": [
        {
          "output_type": "stream",
          "name": "stdout",
          "text": [
            "[[5.00 1.00 0.00 0.00 0.00 0.00 0.00 0.00 0.00 0.00]\n",
            " [1.00 5.00 1.00 0.00 0.00 0.00 0.00 0.00 0.00 0.00]\n",
            " [0.00 1.00 5.00 1.00 0.00 0.00 0.00 0.00 0.00 0.00]\n",
            " [0.00 0.00 1.00 5.00 1.00 0.00 0.00 0.00 0.00 0.00]\n",
            " [0.00 0.00 0.00 1.00 5.00 1.00 0.00 0.00 0.00 0.00]\n",
            " [0.00 0.00 0.00 0.00 1.00 5.00 1.00 0.00 0.00 0.00]\n",
            " [0.00 0.00 0.00 0.00 0.00 1.00 5.00 1.00 0.00 0.00]\n",
            " [0.00 0.00 0.00 0.00 0.00 0.00 1.00 5.00 1.00 0.00]\n",
            " [0.00 0.00 0.00 0.00 0.00 0.00 0.00 1.00 5.00 1.00]\n",
            " [0.00 0.00 0.00 0.00 0.00 0.00 0.00 0.00 1.00 5.00]]\n",
            "[[1.00 1.00 1.00 1.00 1.00 1.00 1.00 1.00 1.00 1.00]]\n"
          ]
        }
      ]
    },
    {
      "cell_type": "code",
      "execution_count": 36,
      "metadata": {
        "id": "0ogpigL9nNOG",
        "colab": {
          "base_uri": "https://localhost:8080/"
        },
        "outputId": "ffd11cbf-a2fa-4c04-a04a-d26045215bb2"
      },
      "outputs": [
        {
          "output_type": "stream",
          "name": "stdout",
          "text": [
            "\n",
            "Soluzione calcolata da Jacobi:\n",
            "1.00\n",
            "1.00\n",
            "1.00\n",
            "1.00\n",
            "1.00\n",
            "1.00\n",
            "1.00\n",
            "1.00\n",
            "1.00\n",
            "1.00\n",
            "\n",
            "Soluzione calcolata da Gauss Seidel:\n",
            "1.00\n",
            "1.00\n",
            "1.00\n",
            "1.00\n",
            "1.00\n",
            "1.00\n",
            "1.00\n",
            "1.00\n",
            "1.00\n",
            "1.00\n"
          ]
        }
      ],
      "source": [
        "n = 10\n",
        "\n",
        "\n",
        "A = np.dot(5, np.eye(10)) + np.eye(10, k=1) + np.eye(10, k=-1)\n",
        "\n",
        "xTrue = np.ones((10,1))\n",
        "b = np.dot(A, xTrue)\n",
        "\n",
        "\n",
        "x0 = np.zeros((10,1))\n",
        "maxit = 200\n",
        "tol= 1.e-6\n",
        "(xJacobi, kJacobi, relErrJacobi) = Jacobi(A,b,x0,maxit,tol,xTrue) \n",
        "(xGS, kGS, relErrGS) = GaussSeidel(A,b,x0,maxit,tol,xTrue) \n",
        "\n",
        "print('\\nSoluzione calcolata da Jacobi:' )\n",
        "for i in range(n):\n",
        "    print('%0.2f' %xJacobi[i])\n",
        "\n",
        "print('\\nSoluzione calcolata da Gauss Seidel:' )\n",
        "for i in range(n):\n",
        "    print('%0.2f' %xGS[i])"
      ]
    },
    {
      "cell_type": "code",
      "execution_count": 50,
      "metadata": {
        "id": "WfeCuoLJpbGw",
        "colab": {
          "base_uri": "https://localhost:8080/",
          "height": 332
        },
        "outputId": "53732ee3-6c49-482a-8cc3-ca5adefc84c3"
      },
      "outputs": [
        {
          "output_type": "stream",
          "name": "stdout",
          "text": [
            "Errore relativo Jacobi:  0.00044161\n",
            "Errore relativo Gauss-Sidel:  0.00000107\n"
          ]
        },
        {
          "output_type": "display_data",
          "data": {
            "image/png": "[encoded data removed]",
            "text/plain": [
              "<Figure size 432x288 with 1 Axes>"
            ]
          },
          "metadata": {
            "needs_background": "light"
          }
        }
      ],
      "source": [
        "# CONFRONTI\n",
        "\n",
        "print('Errore relativo Jacobi: ','%0.8f' %relErrJacobi[n-2])\n",
        "print('Errore relativo Gauss-Sidel: ','%0.8f' %relErrGS[n-2])\n",
        "\n",
        "# Confronto grafico degli errori di Errore Relativo\n",
        "\n",
        "import matplotlib.pyplot as plt\n",
        "\n",
        "fig, ax = plt.subplots()\n",
        "\n",
        "rangeJacobi = range (0, kJacobi)\n",
        "rangeGS = range(0, kGS)\n",
        "\n",
        "ax.plot(rangeJacobi, relErrJacobi, label='Jacobi', color='blue', linewidth=1, marker='o'  )\n",
        "ax.plot(rangeGS, relErrGS, label='Gauss Seidel', color = 'red', linewidth=2, marker='.' )\n",
        "legend = ax.legend(loc='upper right')\n",
        "plt.xlabel('iterations')\n",
        "plt.ylabel('Relative Error')\n",
        "plt.title('Comparison of the different algorithms')\n",
        "plt.show()\n",
        "\n"
      ]
    }
  ],
  "metadata": {
    "colab": {
      "collapsed_sections": [],
      "name": "lab2_Risoluzione_di_sistemi_lineari.ipynb",
      "provenance": [],
      "include_colab_link": true
    },
    "kernelspec": {
      "display_name": "Python 3",
      "name": "python3"
    }
  },
  "nbformat": 4,
  "nbformat_minor": 0
}